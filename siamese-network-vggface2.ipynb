{
 "cells": [
  {
   "cell_type": "code",
   "execution_count": 1,
   "metadata": {
    "execution": {
     "iopub.execute_input": "2025-04-10T08:10:46.898484Z",
     "iopub.status.busy": "2025-04-10T08:10:46.898193Z",
     "iopub.status.idle": "2025-04-10T08:10:46.902262Z",
     "shell.execute_reply": "2025-04-10T08:10:46.901492Z",
     "shell.execute_reply.started": "2025-04-10T08:10:46.898461Z"
    },
    "trusted": true
   },
   "outputs": [],
   "source": [
    "# Define the base directories for train and validation\n",
    "train_base_path = r\"C:\\Users\\athar\\Downloads\\EC_ATML_Project\\vggface2_trimmed\"\n",
    "val_base_path   = r\"C:\\Users\\athar\\Downloads\\EC_ATML_Project\\vggface2_val_trimmed\"\n"
   ]
  },
  {
   "cell_type": "code",
   "execution_count": 2,
   "metadata": {
    "execution": {
     "iopub.execute_input": "2025-04-10T08:10:46.903275Z",
     "iopub.status.busy": "2025-04-10T08:10:46.903062Z",
     "iopub.status.idle": "2025-04-10T08:11:14.471713Z",
     "shell.execute_reply": "2025-04-10T08:11:14.470742Z",
     "shell.execute_reply.started": "2025-04-10T08:10:46.903249Z"
    },
    "trusted": true
   },
   "outputs": [],
   "source": [
    "import os\n",
    "import random\n",
    "import pandas as pd\n",
    "\n",
    "def generate_pairs(base_path, num_same=5000, num_diff=5000):\n",
    "    people = os.listdir(base_path)\n",
    "    people = [p for p in people if os.path.isdir(os.path.join(base_path, p))]\n",
    "    data = []\n",
    "\n",
    "    # Generate same-person pairs\n",
    "    for _ in range(num_same):\n",
    "        person = random.choice(people)\n",
    "        imgs = os.listdir(os.path.join(base_path, person))\n",
    "        if len(imgs) < 2:\n",
    "            continue\n",
    "        img1, img2 = random.sample(imgs, 2)\n",
    "        data.append([f\"{person}/{img1}\", f\"{person}/{img2}\", 1])\n",
    "\n",
    "    # Generate different-person pairs\n",
    "    for _ in range(num_diff):\n",
    "        p1, p2 = random.sample(people, 2)\n",
    "        img1 = random.choice(os.listdir(os.path.join(base_path, p1)))\n",
    "        img2 = random.choice(os.listdir(os.path.join(base_path, p2)))\n",
    "        data.append([f\"{p1}/{img1}\", f\"{p2}/{img2}\", 0])\n",
    "\n",
    "    df = pd.DataFrame(data, columns=['img1', 'img2', 'label'])\n",
    "    return df\n",
    "\n",
    "# Generate and save the pairs\n",
    "df_train = generate_pairs(train_base_path, num_same=5000, num_diff=5000)\n",
    "df_val = generate_pairs(val_base_path, num_same=1000, num_diff=1000)\n",
    "\n",
    "df_train.to_csv(\"train_pairs.csv\", index=False)\n",
    "df_val.to_csv(\"val_pairs.csv\", index=False)\n"
   ]
  },
  {
   "cell_type": "code",
   "execution_count": 3,
   "metadata": {
    "execution": {
     "iopub.execute_input": "2025-04-10T08:11:14.472953Z",
     "iopub.status.busy": "2025-04-10T08:11:14.472647Z",
     "iopub.status.idle": "2025-04-10T08:11:14.498282Z",
     "shell.execute_reply": "2025-04-10T08:11:14.497626Z",
     "shell.execute_reply.started": "2025-04-10T08:11:14.472922Z"
    },
    "trusted": true
   },
   "outputs": [],
   "source": [
    "# Load the generated CSVs\n",
    "df_train = pd.read_csv(\"train_pairs.csv\")\n",
    "df_val = pd.read_csv(\"val_pairs.csv\")\n"
   ]
  },
  {
   "cell_type": "code",
   "execution_count": 4,
   "metadata": {
    "execution": {
     "iopub.execute_input": "2025-04-10T08:11:14.500822Z",
     "iopub.status.busy": "2025-04-10T08:11:14.500367Z",
     "iopub.status.idle": "2025-04-10T08:11:14.536607Z",
     "shell.execute_reply": "2025-04-10T08:11:14.535777Z",
     "shell.execute_reply.started": "2025-04-10T08:11:14.500792Z"
    },
    "trusted": true
   },
   "outputs": [
    {
     "data": {
      "text/html": [
       "<div>\n",
       "<style scoped>\n",
       "    .dataframe tbody tr th:only-of-type {\n",
       "        vertical-align: middle;\n",
       "    }\n",
       "\n",
       "    .dataframe tbody tr th {\n",
       "        vertical-align: top;\n",
       "    }\n",
       "\n",
       "    .dataframe thead th {\n",
       "        text-align: right;\n",
       "    }\n",
       "</style>\n",
       "<table border=\"1\" class=\"dataframe\">\n",
       "  <thead>\n",
       "    <tr style=\"text-align: right;\">\n",
       "      <th></th>\n",
       "      <th>img1</th>\n",
       "      <th>img2</th>\n",
       "      <th>label</th>\n",
       "    </tr>\n",
       "  </thead>\n",
       "  <tbody>\n",
       "    <tr>\n",
       "      <th>0</th>\n",
       "      <td>n000352/0023_02.jpg</td>\n",
       "      <td>n000352/0018_02.jpg</td>\n",
       "      <td>1</td>\n",
       "    </tr>\n",
       "    <tr>\n",
       "      <th>1</th>\n",
       "      <td>n000418/0114_01.jpg</td>\n",
       "      <td>n000418/0169_01.jpg</td>\n",
       "      <td>1</td>\n",
       "    </tr>\n",
       "    <tr>\n",
       "      <th>2</th>\n",
       "      <td>n000053/0090_01.jpg</td>\n",
       "      <td>n000053/0017_01.jpg</td>\n",
       "      <td>1</td>\n",
       "    </tr>\n",
       "    <tr>\n",
       "      <th>3</th>\n",
       "      <td>n000332/0358_01.jpg</td>\n",
       "      <td>n000332/0319_01.jpg</td>\n",
       "      <td>1</td>\n",
       "    </tr>\n",
       "    <tr>\n",
       "      <th>4</th>\n",
       "      <td>n000499/0084_01.jpg</td>\n",
       "      <td>n000499/0163_01.jpg</td>\n",
       "      <td>1</td>\n",
       "    </tr>\n",
       "    <tr>\n",
       "      <th>...</th>\n",
       "      <td>...</td>\n",
       "      <td>...</td>\n",
       "      <td>...</td>\n",
       "    </tr>\n",
       "    <tr>\n",
       "      <th>9995</th>\n",
       "      <td>n000466/0069_01.jpg</td>\n",
       "      <td>n000127/0187_01.jpg</td>\n",
       "      <td>0</td>\n",
       "    </tr>\n",
       "    <tr>\n",
       "      <th>9996</th>\n",
       "      <td>n000371/0017_01.jpg</td>\n",
       "      <td>n000025/0018_01.jpg</td>\n",
       "      <td>0</td>\n",
       "    </tr>\n",
       "    <tr>\n",
       "      <th>9997</th>\n",
       "      <td>n000099/0137_01.jpg</td>\n",
       "      <td>n000446/0165_01.jpg</td>\n",
       "      <td>0</td>\n",
       "    </tr>\n",
       "    <tr>\n",
       "      <th>9998</th>\n",
       "      <td>n000465/0245_02.jpg</td>\n",
       "      <td>n000198/0117_01.jpg</td>\n",
       "      <td>0</td>\n",
       "    </tr>\n",
       "    <tr>\n",
       "      <th>9999</th>\n",
       "      <td>n000066/0062_01.jpg</td>\n",
       "      <td>n000155/0041_02.jpg</td>\n",
       "      <td>0</td>\n",
       "    </tr>\n",
       "  </tbody>\n",
       "</table>\n",
       "<p>10000 rows × 3 columns</p>\n",
       "</div>"
      ],
      "text/plain": [
       "                     img1                 img2  label\n",
       "0     n000352/0023_02.jpg  n000352/0018_02.jpg      1\n",
       "1     n000418/0114_01.jpg  n000418/0169_01.jpg      1\n",
       "2     n000053/0090_01.jpg  n000053/0017_01.jpg      1\n",
       "3     n000332/0358_01.jpg  n000332/0319_01.jpg      1\n",
       "4     n000499/0084_01.jpg  n000499/0163_01.jpg      1\n",
       "...                   ...                  ...    ...\n",
       "9995  n000466/0069_01.jpg  n000127/0187_01.jpg      0\n",
       "9996  n000371/0017_01.jpg  n000025/0018_01.jpg      0\n",
       "9997  n000099/0137_01.jpg  n000446/0165_01.jpg      0\n",
       "9998  n000465/0245_02.jpg  n000198/0117_01.jpg      0\n",
       "9999  n000066/0062_01.jpg  n000155/0041_02.jpg      0\n",
       "\n",
       "[10000 rows x 3 columns]"
      ]
     },
     "execution_count": 4,
     "metadata": {},
     "output_type": "execute_result"
    }
   ],
   "source": [
    "df_train"
   ]
  },
  {
   "cell_type": "code",
   "execution_count": 5,
   "metadata": {
    "execution": {
     "iopub.execute_input": "2025-04-10T08:11:14.537968Z",
     "iopub.status.busy": "2025-04-10T08:11:14.537785Z",
     "iopub.status.idle": "2025-04-10T08:11:14.548250Z",
     "shell.execute_reply": "2025-04-10T08:11:14.547655Z",
     "shell.execute_reply.started": "2025-04-10T08:11:14.537951Z"
    },
    "trusted": true
   },
   "outputs": [
    {
     "data": {
      "text/html": [
       "<div>\n",
       "<style scoped>\n",
       "    .dataframe tbody tr th:only-of-type {\n",
       "        vertical-align: middle;\n",
       "    }\n",
       "\n",
       "    .dataframe tbody tr th {\n",
       "        vertical-align: top;\n",
       "    }\n",
       "\n",
       "    .dataframe thead th {\n",
       "        text-align: right;\n",
       "    }\n",
       "</style>\n",
       "<table border=\"1\" class=\"dataframe\">\n",
       "  <thead>\n",
       "    <tr style=\"text-align: right;\">\n",
       "      <th></th>\n",
       "      <th>img1</th>\n",
       "      <th>img2</th>\n",
       "      <th>label</th>\n",
       "    </tr>\n",
       "  </thead>\n",
       "  <tbody>\n",
       "    <tr>\n",
       "      <th>0</th>\n",
       "      <td>n000945/0376_01.jpg</td>\n",
       "      <td>n000945/0141_01.jpg</td>\n",
       "      <td>1</td>\n",
       "    </tr>\n",
       "    <tr>\n",
       "      <th>1</th>\n",
       "      <td>n000284/0089_02.jpg</td>\n",
       "      <td>n000284/0105_03.jpg</td>\n",
       "      <td>1</td>\n",
       "    </tr>\n",
       "    <tr>\n",
       "      <th>2</th>\n",
       "      <td>n001296/0019_01.jpg</td>\n",
       "      <td>n001296/0137_01.jpg</td>\n",
       "      <td>1</td>\n",
       "    </tr>\n",
       "    <tr>\n",
       "      <th>3</th>\n",
       "      <td>n000746/0243_01.jpg</td>\n",
       "      <td>n000746/0225_01.jpg</td>\n",
       "      <td>1</td>\n",
       "    </tr>\n",
       "    <tr>\n",
       "      <th>4</th>\n",
       "      <td>n001242/0155_01.jpg</td>\n",
       "      <td>n001242/0127_01.jpg</td>\n",
       "      <td>1</td>\n",
       "    </tr>\n",
       "    <tr>\n",
       "      <th>...</th>\n",
       "      <td>...</td>\n",
       "      <td>...</td>\n",
       "      <td>...</td>\n",
       "    </tr>\n",
       "    <tr>\n",
       "      <th>1995</th>\n",
       "      <td>n000785/0214_05.jpg</td>\n",
       "      <td>n000148/0362_01.jpg</td>\n",
       "      <td>0</td>\n",
       "    </tr>\n",
       "    <tr>\n",
       "      <th>1996</th>\n",
       "      <td>n000029/0317_07.jpg</td>\n",
       "      <td>n001199/0052_01.jpg</td>\n",
       "      <td>0</td>\n",
       "    </tr>\n",
       "    <tr>\n",
       "      <th>1997</th>\n",
       "      <td>n001291/0132_01.jpg</td>\n",
       "      <td>n000912/0225_01.jpg</td>\n",
       "      <td>0</td>\n",
       "    </tr>\n",
       "    <tr>\n",
       "      <th>1998</th>\n",
       "      <td>n000945/0167_01.jpg</td>\n",
       "      <td>n000149/0055_02.jpg</td>\n",
       "      <td>0</td>\n",
       "    </tr>\n",
       "    <tr>\n",
       "      <th>1999</th>\n",
       "      <td>n000001/0048_01.jpg</td>\n",
       "      <td>n001153/0003_01.jpg</td>\n",
       "      <td>0</td>\n",
       "    </tr>\n",
       "  </tbody>\n",
       "</table>\n",
       "<p>2000 rows × 3 columns</p>\n",
       "</div>"
      ],
      "text/plain": [
       "                     img1                 img2  label\n",
       "0     n000945/0376_01.jpg  n000945/0141_01.jpg      1\n",
       "1     n000284/0089_02.jpg  n000284/0105_03.jpg      1\n",
       "2     n001296/0019_01.jpg  n001296/0137_01.jpg      1\n",
       "3     n000746/0243_01.jpg  n000746/0225_01.jpg      1\n",
       "4     n001242/0155_01.jpg  n001242/0127_01.jpg      1\n",
       "...                   ...                  ...    ...\n",
       "1995  n000785/0214_05.jpg  n000148/0362_01.jpg      0\n",
       "1996  n000029/0317_07.jpg  n001199/0052_01.jpg      0\n",
       "1997  n001291/0132_01.jpg  n000912/0225_01.jpg      0\n",
       "1998  n000945/0167_01.jpg  n000149/0055_02.jpg      0\n",
       "1999  n000001/0048_01.jpg  n001153/0003_01.jpg      0\n",
       "\n",
       "[2000 rows x 3 columns]"
      ]
     },
     "execution_count": 5,
     "metadata": {},
     "output_type": "execute_result"
    }
   ],
   "source": [
    "df_val"
   ]
  },
  {
   "cell_type": "code",
   "execution_count": 3,
   "metadata": {
    "execution": {
     "iopub.execute_input": "2025-04-10T08:11:14.549497Z",
     "iopub.status.busy": "2025-04-10T08:11:14.549168Z",
     "iopub.status.idle": "2025-04-10T08:11:32.624536Z",
     "shell.execute_reply": "2025-04-10T08:11:32.623523Z",
     "shell.execute_reply.started": "2025-04-10T08:11:14.549463Z"
    },
    "trusted": true
   },
   "outputs": [],
   "source": [
    "# Importing Libararies\n",
    "import os\n",
    "import random\n",
    "import numpy as np\n",
    "import pandas as pd\n",
    "from PIL import Image\n",
    "import matplotlib.pyplot as plt\n",
    "\n",
    "import torch\n",
    "import torch.nn as nn\n",
    "import torchvision.transforms as transforms\n",
    "from torch.utils.data import Dataset, DataLoader\n",
    "import torchvision.models as models\n",
    "from sklearn.metrics import classification_report, confusion_matrix, ConfusionMatrixDisplay, roc_auc_score, roc_curve\n",
    "from sklearn.model_selection import train_test_split\n",
    "\n",
    "from pyswarm import pso\n",
    "\n",
    "from scipy.spatial.distance import euclidean\n"
   ]
  },
  {
   "cell_type": "code",
   "execution_count": null,
   "metadata": {
    "execution": {
     "iopub.execute_input": "2025-04-10T08:11:32.626294Z",
     "iopub.status.busy": "2025-04-10T08:11:32.625589Z",
     "iopub.status.idle": "2025-04-10T08:11:32.630197Z",
     "shell.execute_reply": "2025-04-10T08:11:32.629455Z",
     "shell.execute_reply.started": "2025-04-10T08:11:32.626262Z"
    },
    "trusted": true
   },
   "outputs": [],
   "source": [
    "# setting up the directories \n",
    "\n",
    "train_dir = r\"C:\\Users\\athar\\Downloads\\EC_ATML_Project\\vggface2_trimmed\"\n",
    "val_dir   = r\"C:\\Users\\athar\\Downloads\\EC_ATML_Project\\vggface2_val_trimmed\"\n"
   ]
  },
  {
   "cell_type": "code",
   "execution_count": null,
   "metadata": {
    "execution": {
     "iopub.execute_input": "2025-04-10T08:11:32.631369Z",
     "iopub.status.busy": "2025-04-10T08:11:32.631107Z",
     "iopub.status.idle": "2025-04-10T08:11:32.652003Z",
     "shell.execute_reply": "2025-04-10T08:11:32.651377Z",
     "shell.execute_reply.started": "2025-04-10T08:11:32.631350Z"
    },
    "trusted": true
   },
   "outputs": [],
   "source": [
    "# Dataset Processing – Few-Shot Pair Dataset for training/validation\n",
    "# This dataset creates pairs (50% positive, 50% negative)\n",
    "\n",
    "class FewShotPairs(Dataset):\n",
    "    def __init__(self, root_dir, transform=None, n_way=5, k_shot=5):\n",
    "        self.root_dir = root_dir\n",
    "        self.transform = transform\n",
    "        self.n_way = n_way\n",
    "        self.k_shot = k_shot\n",
    "        self.class_folders = [os.path.join(root_dir, cls) for cls in os.listdir(root_dir)]\n",
    "        self.class_folders = [f for f in self.class_folders if os.path.isdir(f)]\n",
    "\n",
    "    def __len__(self):\n",
    "        return 10000  \n",
    "\n",
    "    def __getitem__(self, idx):\n",
    "        \n",
    "        \n",
    "        if random.random() < 0.5:\n",
    "        \n",
    "           \n",
    "            cls_path = random.choice(self.class_folders)\n",
    "            images = os.listdir(cls_path)\n",
    "            if len(images) < 2:\n",
    "                return self.__getitem__(idx)\n",
    "            img1_name, img2_name = random.sample(images, 2)\n",
    "            label = 1.0\n",
    "        \n",
    "            \n",
    "            cls1 = cls_path\n",
    "            cls2 = cls_path\n",
    "        else:\n",
    "        \n",
    "           \n",
    "            cls1, cls2 = random.sample(self.class_folders, 2)\n",
    "            img1_name = random.choice(os.listdir(cls1))\n",
    "            img2_name = random.choice(os.listdir(cls2))\n",
    "            label = 0.0\n",
    "\n",
    "        img1 = Image.open(os.path.join(cls1, img1_name)).convert(\"RGB\")\n",
    "        img2 = Image.open(os.path.join(cls2, img2_name)).convert(\"RGB\")\n",
    "        if self.transform:\n",
    "            img1 = self.transform(img1)\n",
    "            img2 = self.transform(img2)\n",
    "        return img1, img2, torch.tensor(label, dtype=torch.float32)\n"
   ]
  },
  {
   "cell_type": "code",
   "execution_count": 107,
   "metadata": {},
   "outputs": [
    {
     "name": "stdout",
     "output_type": "stream",
     "text": [
      "Using device: cuda\n"
     ]
    }
   ],
   "source": [
    "import torch\n",
    "\n",
    "device = torch.device(\"cuda\" if torch.cuda.is_available() else \"cpu\")\n",
    "print(\"Using device:\", device)"
   ]
  },
  {
   "cell_type": "code",
   "execution_count": null,
   "metadata": {
    "execution": {
     "iopub.execute_input": "2025-04-10T08:11:32.652962Z",
     "iopub.status.busy": "2025-04-10T08:11:32.652749Z",
     "iopub.status.idle": "2025-04-10T08:11:33.447351Z",
     "shell.execute_reply": "2025-04-10T08:11:33.445611Z",
     "shell.execute_reply.started": "2025-04-10T08:11:32.652944Z"
    },
    "trusted": true
   },
   "outputs": [
    {
     "name": "stdout",
     "output_type": "stream",
     "text": [
      "Stopping search: maximum iterations reached --> 8\n",
      "Best augmentation params (rotation, brightness, contrast): [5.11069683 0.5351424  0.96725469]\n"
     ]
    }
   ],
   "source": [
    "# PSO Optimization for Data Augmentation Tuning\n",
    "\n",
    "# Defining a temporary Siamese model to be used only for augmentation tuning.\n",
    "\n",
    "class ResNetSiamese(nn.Module):\n",
    "    def __init__(self):\n",
    "        super(ResNetSiamese, self).__init__()\n",
    "        resnet = models.resnet18(pretrained=True)\n",
    "        self.feature_extractor = nn.Sequential(*list(resnet.children())[:-1])\n",
    "        self.fc = nn.Sequential(\n",
    "            nn.Linear(512, 512),\n",
    "            nn.ReLU(), nn.Dropout(0.7),\n",
    "            nn.Linear(512, 256),\n",
    "            nn.ReLU(), nn.Dropout(0.6),\n",
    "            nn.Linear(256, 128),\n",
    "            nn.ReLU(), nn.Dropout(0.5),\n",
    "            nn.Linear(128, 1)\n",
    "        )\n",
    "\n",
    "    def forward_one(self, x):\n",
    "        x = self.feature_extractor(x)\n",
    "        return x.view(x.size(0), -1)\n",
    "\n",
    "    def forward(self, x1, x2):\n",
    "        f1 = self.forward_one(x1)\n",
    "        f2 = self.forward_one(x2)\n",
    "        diff = torch.abs(f1 - f2)\n",
    "        return self.fc(diff)\n",
    "    \n",
    "# Create a temporary instance of the Siamese model for tuning purposes.\n",
    "temp_model = ResNetSiamese().to(device)\n",
    "temp_model.eval()\n",
    "\n",
    "def tune_augment(params):\n",
    "    rot, bright, contrast = params\n",
    "    transform = transforms.Compose([\n",
    "        transforms.Resize((224, 224)),\n",
    "        transforms.RandomRotation(int(rot)),\n",
    "        transforms.ColorJitter(brightness=bright, contrast=contrast),\n",
    "        transforms.ToTensor(),\n",
    "        transforms.Normalize([0.5]*3, [0.5]*3)\n",
    "    ])\n",
    "  \n",
    "    temp_dataset = FewShotPairs(train_dir, transform=transform)\n",
    "    loader = DataLoader(temp_dataset, batch_size=32, shuffle=True)\n",
    "    \n",
    "    with torch.no_grad():\n",
    "        acc_total = 0\n",
    "       \n",
    "        for x1, x2, y in loader:\n",
    "            x1, x2, y = x1.to(device), x2.to(device), y.to(device).unsqueeze(1)\n",
    "            out = temp_model(x1, x2)  # Calling our Siamese model\n",
    "            pred = (torch.sigmoid(out) > 0.5).float()\n",
    "            acc_total += (pred == y).sum().item() / y.size(0)\n",
    "            break  \n",
    "\n",
    "    return 1 - (acc_total / 1)\n",
    "\n",
    "\n",
    "best_aug_params, _ = pso(\n",
    "    tune_augment,\n",
    "    lb=[5, 0.1, 0.1], ub=[30, 1.0, 1.0],\n",
    "    swarmsize=8, maxiter=8\n",
    ")\n",
    "print(f\"Best augmentation params (rotation, brightness, contrast): {best_aug_params}\")\n",
    "\n",
    "\n",
    "best_rot, best_bright, best_contrast = best_aug_params\n",
    "train_transform = transforms.Compose([\n",
    "    transforms.Resize((224, 224)),\n",
    "    transforms.RandomRotation(int(best_rot)),\n",
    "    transforms.ColorJitter(brightness=best_bright, contrast=best_contrast),\n",
    "    transforms.ToTensor(),\n",
    "    transforms.Normalize([0.5]*3, [0.5]*3)\n",
    "])\n",
    "\n",
    "eval_transform = transforms.Compose([\n",
    "    transforms.Resize((224, 224)),\n",
    "    transforms.ToTensor(),\n",
    "    transforms.Normalize([0.5]*3, [0.5]*3)\n",
    "])\n"
   ]
  },
  {
   "cell_type": "code",
   "execution_count": null,
   "metadata": {
    "execution": {
     "iopub.status.busy": "2025-04-10T08:11:33.447863Z",
     "iopub.status.idle": "2025-04-10T08:11:33.448129Z",
     "shell.execute_reply": "2025-04-10T08:11:33.448029Z"
    },
    "trusted": true
   },
   "outputs": [],
   "source": [
    "#  DataLoaders (Re-create datasets using the tuned transforms)\n",
    "train_dataset = FewShotPairs(train_dir, transform=train_transform)\n",
    "val_dataset = FewShotPairs(val_dir, transform=eval_transform)\n",
    "\n",
    "train_loader = DataLoader(train_dataset, batch_size=32, shuffle=True)\n",
    "val_loader = DataLoader(val_dataset, batch_size=32, shuffle=False)\n"
   ]
  },
  {
   "cell_type": "code",
   "execution_count": null,
   "metadata": {
    "execution": {
     "iopub.status.busy": "2025-04-10T08:11:33.448669Z",
     "iopub.status.idle": "2025-04-10T08:11:33.448992Z",
     "shell.execute_reply": "2025-04-10T08:11:33.448877Z"
    },
    "trusted": true
   },
   "outputs": [],
   "source": [
    "# Defining the Siamese Network (ResNet18 Based)\n",
    "class ResNetSiamese(nn.Module):\n",
    "    def __init__(self):\n",
    "        super().__init__()\n",
    "        resnet = models.resnet18(pretrained=True)\n",
    "        self.feature_extractor = nn.Sequential(*list(resnet.children())[:-1])\n",
    "        self.fc = nn.Sequential(\n",
    "            nn.Linear(512, 512),\n",
    "            nn.ReLU(), nn.Dropout(0.7),\n",
    "            nn.Linear(512, 256),\n",
    "            nn.ReLU(), nn.Dropout(0.6),\n",
    "            nn.Linear(256, 128),\n",
    "            nn.ReLU(), nn.Dropout(0.5),\n",
    "            nn.Linear(128, 1)\n",
    "        )\n",
    "\n",
    "    def forward_one(self, x):\n",
    "        x = self.feature_extractor(x)\n",
    "        return x.view(x.size(0), -1)\n",
    "\n",
    "    def forward(self, x1, x2):\n",
    "        f1, f2 = self.forward_one(x1), self.forward_one(x2)\n",
    "        dist = torch.abs(f1 - f2)\n",
    "        return self.fc(dist)\n",
    "\n",
    "model = ResNetSiamese().to(device)\n"
   ]
  },
  {
   "cell_type": "code",
   "execution_count": null,
   "metadata": {
    "execution": {
     "iopub.status.busy": "2025-04-10T08:11:33.449851Z",
     "iopub.status.idle": "2025-04-10T08:11:33.450154Z",
     "shell.execute_reply": "2025-04-10T08:11:33.450037Z"
    },
    "trusted": true
   },
   "outputs": [],
   "source": [
    "# Training and Evaluation Functions\n",
    "def train_one_epoch(model, loader, criterion, optimizer, device):\n",
    "    model.train()\n",
    "    total, correct, loss_sum = 0, 0, 0\n",
    "    for x1, x2, y in loader:\n",
    "        x1, x2, y = x1.to(device), x2.to(device), y.to(device).unsqueeze(1)\n",
    "        optimizer.zero_grad()\n",
    "        out = model(x1, x2)\n",
    "        loss = criterion(out, y)\n",
    "        loss.backward()\n",
    "        optimizer.step()\n",
    "        preds = (torch.sigmoid(out) > 0.5).float()\n",
    "        correct += (preds == y).sum().item()\n",
    "        total += y.size(0)\n",
    "        loss_sum += loss.item() * y.size(0)\n",
    "    return loss_sum / total, correct / total\n",
    "\n",
    "def evaluate_model(model, loader, criterion, device, threshold=0.5):\n",
    "    model.eval()\n",
    "    total, correct, loss_sum = 0, 0, 0\n",
    "    all_labels, all_preds, all_probs = [], [], []\n",
    "    with torch.no_grad():\n",
    "        for x1, x2, y in loader:\n",
    "            x1, x2, y = x1.to(device), x2.to(device), y.to(device).unsqueeze(1)\n",
    "            out = model(x1, x2)\n",
    "            loss = criterion(out, y)\n",
    "            prob = torch.sigmoid(out)\n",
    "            pred = (prob > threshold).float()\n",
    "            all_labels.extend(y.cpu().numpy())\n",
    "            all_preds.extend(pred.cpu().numpy())\n",
    "            all_probs.extend(prob.cpu().numpy())\n",
    "            correct += (pred == y).sum().item()\n",
    "            total += y.size(0)\n",
    "            loss_sum += loss.item() * y.size(0)\n",
    "    return loss_sum / total, correct / total, np.array(all_labels), np.array(all_preds), np.array(all_probs)\n",
    "\n",
    "\n"
   ]
  },
  {
   "cell_type": "code",
   "execution_count": 124,
   "metadata": {
    "execution": {
     "iopub.status.busy": "2025-04-10T08:11:33.450899Z",
     "iopub.status.idle": "2025-04-10T08:11:33.451287Z",
     "shell.execute_reply": "2025-04-10T08:11:33.451110Z"
    },
    "trusted": true
   },
   "outputs": [
    {
     "name": "stderr",
     "output_type": "stream",
     "text": [
      "Epoch 1/45 - Training:   0%|          | 0/313 [00:00<?, ?it/s]"
     ]
    },
    {
     "name": "stderr",
     "output_type": "stream",
     "text": [
      "                                                                                       \r"
     ]
    },
    {
     "name": "stdout",
     "output_type": "stream",
     "text": [
      "\n",
      "Epoch 1/45:\n",
      "  Train Loss: 0.5956, Train Acc: 0.6758\n",
      "  Val Loss:   0.5594, Val Acc:   0.7016\n",
      "  Learning Rate: 0.000100\n",
      "  Elapsed Time: 154.69 seconds\n"
     ]
    },
    {
     "name": "stderr",
     "output_type": "stream",
     "text": [
      "                                                                                       \r"
     ]
    },
    {
     "name": "stdout",
     "output_type": "stream",
     "text": [
      "\n",
      "Epoch 2/45:\n",
      "  Train Loss: 0.5657, Train Acc: 0.7048\n",
      "  Val Loss:   0.5571, Val Acc:   0.7014\n",
      "  Learning Rate: 0.000100\n",
      "  Elapsed Time: 144.58 seconds\n"
     ]
    },
    {
     "name": "stderr",
     "output_type": "stream",
     "text": [
      "                                                                                       \r"
     ]
    },
    {
     "name": "stdout",
     "output_type": "stream",
     "text": [
      "\n",
      "Epoch 3/45:\n",
      "  Train Loss: 0.5545, Train Acc: 0.7131\n",
      "  Val Loss:   0.5343, Val Acc:   0.7229\n",
      "  Learning Rate: 0.000100\n",
      "  Elapsed Time: 146.97 seconds\n"
     ]
    },
    {
     "name": "stderr",
     "output_type": "stream",
     "text": [
      "                                                                                       \r"
     ]
    },
    {
     "name": "stdout",
     "output_type": "stream",
     "text": [
      "\n",
      "Epoch 4/45:\n",
      "  Train Loss: 0.5342, Train Acc: 0.7325\n",
      "  Val Loss:   0.5376, Val Acc:   0.7228\n",
      "  Learning Rate: 0.000100\n",
      "  Elapsed Time: 144.92 seconds\n"
     ]
    },
    {
     "name": "stderr",
     "output_type": "stream",
     "text": [
      "                                                                                       \r"
     ]
    },
    {
     "name": "stdout",
     "output_type": "stream",
     "text": [
      "\n",
      "Epoch 5/45:\n",
      "  Train Loss: 0.5277, Train Acc: 0.7326\n",
      "  Val Loss:   0.5080, Val Acc:   0.7461\n",
      "  Learning Rate: 0.000100\n",
      "  Elapsed Time: 143.70 seconds\n"
     ]
    },
    {
     "name": "stderr",
     "output_type": "stream",
     "text": [
      "                                                                                       \r"
     ]
    },
    {
     "name": "stdout",
     "output_type": "stream",
     "text": [
      "\n",
      "Epoch 6/45:\n",
      "  Train Loss: 0.5061, Train Acc: 0.7535\n",
      "  Val Loss:   0.5039, Val Acc:   0.7542\n",
      "  Learning Rate: 0.000100\n",
      "  Elapsed Time: 143.26 seconds\n"
     ]
    },
    {
     "name": "stderr",
     "output_type": "stream",
     "text": [
      "                                                                                       \r"
     ]
    },
    {
     "name": "stdout",
     "output_type": "stream",
     "text": [
      "\n",
      "Epoch 7/45:\n",
      "  Train Loss: 0.4959, Train Acc: 0.7602\n",
      "  Val Loss:   0.4923, Val Acc:   0.7618\n",
      "  Learning Rate: 0.000100\n",
      "  Elapsed Time: 142.31 seconds\n"
     ]
    },
    {
     "name": "stderr",
     "output_type": "stream",
     "text": [
      "                                                                                       \r"
     ]
    },
    {
     "name": "stdout",
     "output_type": "stream",
     "text": [
      "\n",
      "Epoch 8/45:\n",
      "  Train Loss: 0.4759, Train Acc: 0.7726\n",
      "  Val Loss:   0.4834, Val Acc:   0.7636\n",
      "  Learning Rate: 0.000100\n",
      "  Elapsed Time: 142.48 seconds\n"
     ]
    },
    {
     "name": "stderr",
     "output_type": "stream",
     "text": [
      "                                                                                       \r"
     ]
    },
    {
     "name": "stdout",
     "output_type": "stream",
     "text": [
      "\n",
      "Epoch 9/45:\n",
      "  Train Loss: 0.4782, Train Acc: 0.7699\n",
      "  Val Loss:   0.4780, Val Acc:   0.7651\n",
      "  Learning Rate: 0.000100\n",
      "  Elapsed Time: 141.61 seconds\n"
     ]
    },
    {
     "name": "stderr",
     "output_type": "stream",
     "text": [
      "                                                                                        \r"
     ]
    },
    {
     "name": "stdout",
     "output_type": "stream",
     "text": [
      "\n",
      "Epoch 10/45:\n",
      "  Train Loss: 0.4661, Train Acc: 0.7775\n",
      "  Val Loss:   0.4687, Val Acc:   0.7777\n",
      "  Learning Rate: 0.000100\n",
      "  Elapsed Time: 141.53 seconds\n"
     ]
    },
    {
     "name": "stderr",
     "output_type": "stream",
     "text": [
      "                                                                                        \r"
     ]
    },
    {
     "name": "stdout",
     "output_type": "stream",
     "text": [
      "\n",
      "Epoch 11/45:\n",
      "  Train Loss: 0.4557, Train Acc: 0.7883\n",
      "  Val Loss:   0.4673, Val Acc:   0.7789\n",
      "  Learning Rate: 0.000100\n",
      "  Elapsed Time: 140.66 seconds\n"
     ]
    },
    {
     "name": "stderr",
     "output_type": "stream",
     "text": [
      "                                                                                        \r"
     ]
    },
    {
     "name": "stdout",
     "output_type": "stream",
     "text": [
      "\n",
      "Epoch 12/45:\n",
      "  Train Loss: 0.4523, Train Acc: 0.7847\n",
      "  Val Loss:   0.4657, Val Acc:   0.7803\n",
      "  Learning Rate: 0.000100\n",
      "  Elapsed Time: 141.30 seconds\n"
     ]
    },
    {
     "name": "stderr",
     "output_type": "stream",
     "text": [
      "                                                                                        \r"
     ]
    },
    {
     "name": "stdout",
     "output_type": "stream",
     "text": [
      "\n",
      "Epoch 13/45:\n",
      "  Train Loss: 0.4454, Train Acc: 0.7940\n",
      "  Val Loss:   0.4435, Val Acc:   0.7964\n",
      "  Learning Rate: 0.000100\n",
      "  Elapsed Time: 143.18 seconds\n"
     ]
    },
    {
     "name": "stderr",
     "output_type": "stream",
     "text": [
      "                                                                                        \r"
     ]
    },
    {
     "name": "stdout",
     "output_type": "stream",
     "text": [
      "\n",
      "Epoch 14/45:\n",
      "  Train Loss: 0.4390, Train Acc: 0.7946\n",
      "  Val Loss:   0.4590, Val Acc:   0.7868\n",
      "  Learning Rate: 0.000100\n",
      "  Elapsed Time: 142.08 seconds\n"
     ]
    },
    {
     "name": "stderr",
     "output_type": "stream",
     "text": [
      "                                                                                        \r"
     ]
    },
    {
     "name": "stdout",
     "output_type": "stream",
     "text": [
      "\n",
      "Epoch 15/45:\n",
      "  Train Loss: 0.4432, Train Acc: 0.7879\n",
      "  Val Loss:   0.4419, Val Acc:   0.7949\n",
      "  Learning Rate: 0.000100\n",
      "  Elapsed Time: 141.33 seconds\n"
     ]
    },
    {
     "name": "stderr",
     "output_type": "stream",
     "text": [
      "                                                                                        \r"
     ]
    },
    {
     "name": "stdout",
     "output_type": "stream",
     "text": [
      "\n",
      "Epoch 16/45:\n",
      "  Train Loss: 0.4412, Train Acc: 0.7890\n",
      "  Val Loss:   0.4471, Val Acc:   0.7859\n",
      "  Learning Rate: 0.000100\n",
      "  Elapsed Time: 140.38 seconds\n"
     ]
    },
    {
     "name": "stderr",
     "output_type": "stream",
     "text": [
      "                                                                                        \r"
     ]
    },
    {
     "name": "stdout",
     "output_type": "stream",
     "text": [
      "\n",
      "Epoch 17/45:\n",
      "  Train Loss: 0.4282, Train Acc: 0.7994\n",
      "  Val Loss:   0.4504, Val Acc:   0.7890\n",
      "  Learning Rate: 0.000100\n",
      "  Elapsed Time: 141.49 seconds\n"
     ]
    },
    {
     "name": "stderr",
     "output_type": "stream",
     "text": [
      "                                                                                        \r"
     ]
    },
    {
     "name": "stdout",
     "output_type": "stream",
     "text": [
      "\n",
      "Epoch 18/45:\n",
      "  Train Loss: 0.4165, Train Acc: 0.8075\n",
      "  Val Loss:   0.4551, Val Acc:   0.7859\n",
      "  Learning Rate: 0.000100\n",
      "  Elapsed Time: 140.67 seconds\n"
     ]
    },
    {
     "name": "stderr",
     "output_type": "stream",
     "text": [
      "                                                                                        \r"
     ]
    },
    {
     "name": "stdout",
     "output_type": "stream",
     "text": [
      "\n",
      "Epoch 19/45:\n",
      "  Train Loss: 0.4177, Train Acc: 0.8091\n",
      "  Val Loss:   0.4544, Val Acc:   0.7894\n",
      "  Learning Rate: 0.000050\n",
      "  Elapsed Time: 140.73 seconds\n"
     ]
    },
    {
     "name": "stderr",
     "output_type": "stream",
     "text": [
      "                                                                                        \r"
     ]
    },
    {
     "name": "stdout",
     "output_type": "stream",
     "text": [
      "\n",
      "Epoch 20/45:\n",
      "  Train Loss: 0.4046, Train Acc: 0.8177\n",
      "  Val Loss:   0.4226, Val Acc:   0.8083\n",
      "  Learning Rate: 0.000050\n",
      "  Elapsed Time: 140.70 seconds\n"
     ]
    },
    {
     "name": "stderr",
     "output_type": "stream",
     "text": [
      "                                                                                        \r"
     ]
    },
    {
     "name": "stdout",
     "output_type": "stream",
     "text": [
      "\n",
      "Epoch 21/45:\n",
      "  Train Loss: 0.3907, Train Acc: 0.8261\n",
      "  Val Loss:   0.4044, Val Acc:   0.8178\n",
      "  Learning Rate: 0.000050\n",
      "  Elapsed Time: 140.30 seconds\n"
     ]
    },
    {
     "name": "stderr",
     "output_type": "stream",
     "text": [
      "                                                                                        \r"
     ]
    },
    {
     "name": "stdout",
     "output_type": "stream",
     "text": [
      "\n",
      "Epoch 22/45:\n",
      "  Train Loss: 0.3960, Train Acc: 0.8172\n",
      "  Val Loss:   0.4025, Val Acc:   0.8205\n",
      "  Learning Rate: 0.000050\n",
      "  Elapsed Time: 140.34 seconds\n"
     ]
    },
    {
     "name": "stderr",
     "output_type": "stream",
     "text": [
      "                                                                                        \r"
     ]
    },
    {
     "name": "stdout",
     "output_type": "stream",
     "text": [
      "\n",
      "Epoch 23/45:\n",
      "  Train Loss: 0.3849, Train Acc: 0.8278\n",
      "  Val Loss:   0.4127, Val Acc:   0.8120\n",
      "  Learning Rate: 0.000050\n",
      "  Elapsed Time: 140.62 seconds\n"
     ]
    },
    {
     "name": "stderr",
     "output_type": "stream",
     "text": [
      "                                                                                        \r"
     ]
    },
    {
     "name": "stdout",
     "output_type": "stream",
     "text": [
      "\n",
      "Epoch 24/45:\n",
      "  Train Loss: 0.3732, Train Acc: 0.8367\n",
      "  Val Loss:   0.4087, Val Acc:   0.8165\n",
      "  Learning Rate: 0.000050\n",
      "  Elapsed Time: 139.94 seconds\n"
     ]
    },
    {
     "name": "stderr",
     "output_type": "stream",
     "text": [
      "                                                                                        \r"
     ]
    },
    {
     "name": "stdout",
     "output_type": "stream",
     "text": [
      "\n",
      "Epoch 25/45:\n",
      "  Train Loss: 0.3804, Train Acc: 0.8312\n",
      "  Val Loss:   0.3964, Val Acc:   0.8232\n",
      "  Learning Rate: 0.000050\n",
      "  Elapsed Time: 140.08 seconds\n"
     ]
    },
    {
     "name": "stderr",
     "output_type": "stream",
     "text": [
      "                                                                                        \r"
     ]
    },
    {
     "name": "stdout",
     "output_type": "stream",
     "text": [
      "\n",
      "Epoch 26/45:\n",
      "  Train Loss: 0.3743, Train Acc: 0.8333\n",
      "  Val Loss:   0.4012, Val Acc:   0.8174\n",
      "  Learning Rate: 0.000050\n",
      "  Elapsed Time: 140.12 seconds\n"
     ]
    },
    {
     "name": "stderr",
     "output_type": "stream",
     "text": [
      "                                                                                        \r"
     ]
    },
    {
     "name": "stdout",
     "output_type": "stream",
     "text": [
      "\n",
      "Epoch 27/45:\n",
      "  Train Loss: 0.3615, Train Acc: 0.8420\n",
      "  Val Loss:   0.3901, Val Acc:   0.8238\n",
      "  Learning Rate: 0.000050\n",
      "  Elapsed Time: 141.83 seconds\n"
     ]
    },
    {
     "name": "stderr",
     "output_type": "stream",
     "text": [
      "                                                                                        \r"
     ]
    },
    {
     "name": "stdout",
     "output_type": "stream",
     "text": [
      "\n",
      "Epoch 28/45:\n",
      "  Train Loss: 0.3623, Train Acc: 0.8402\n",
      "  Val Loss:   0.4047, Val Acc:   0.8217\n",
      "  Learning Rate: 0.000050\n",
      "  Elapsed Time: 147.93 seconds\n"
     ]
    },
    {
     "name": "stderr",
     "output_type": "stream",
     "text": [
      "                                                                                        \r"
     ]
    },
    {
     "name": "stdout",
     "output_type": "stream",
     "text": [
      "\n",
      "Epoch 29/45:\n",
      "  Train Loss: 0.3559, Train Acc: 0.8435\n",
      "  Val Loss:   0.3962, Val Acc:   0.8193\n",
      "  Learning Rate: 0.000050\n",
      "  Elapsed Time: 145.42 seconds\n"
     ]
    },
    {
     "name": "stderr",
     "output_type": "stream",
     "text": [
      "                                                                                        \r"
     ]
    },
    {
     "name": "stdout",
     "output_type": "stream",
     "text": [
      "\n",
      "Epoch 30/45:\n",
      "  Train Loss: 0.3611, Train Acc: 0.8406\n",
      "  Val Loss:   0.3864, Val Acc:   0.8288\n",
      "  Learning Rate: 0.000050\n",
      "  Elapsed Time: 144.47 seconds\n"
     ]
    },
    {
     "name": "stderr",
     "output_type": "stream",
     "text": [
      "                                                                                        \r"
     ]
    },
    {
     "name": "stdout",
     "output_type": "stream",
     "text": [
      "\n",
      "Epoch 31/45:\n",
      "  Train Loss: 0.3668, Train Acc: 0.8346\n",
      "  Val Loss:   0.4097, Val Acc:   0.8170\n",
      "  Learning Rate: 0.000050\n",
      "  Elapsed Time: 143.12 seconds\n"
     ]
    },
    {
     "name": "stderr",
     "output_type": "stream",
     "text": [
      "                                                                                        \r"
     ]
    },
    {
     "name": "stdout",
     "output_type": "stream",
     "text": [
      "\n",
      "Epoch 32/45:\n",
      "  Train Loss: 0.3477, Train Acc: 0.8465\n",
      "  Val Loss:   0.3930, Val Acc:   0.8233\n",
      "  Learning Rate: 0.000050\n",
      "  Elapsed Time: 142.35 seconds\n"
     ]
    },
    {
     "name": "stderr",
     "output_type": "stream",
     "text": [
      "                                                                                        \r"
     ]
    },
    {
     "name": "stdout",
     "output_type": "stream",
     "text": [
      "\n",
      "Epoch 33/45:\n",
      "  Train Loss: 0.3502, Train Acc: 0.8426\n",
      "  Val Loss:   0.3844, Val Acc:   0.8274\n",
      "  Learning Rate: 0.000050\n",
      "  Elapsed Time: 142.32 seconds\n"
     ]
    },
    {
     "name": "stderr",
     "output_type": "stream",
     "text": [
      "                                                                                        \r"
     ]
    },
    {
     "name": "stdout",
     "output_type": "stream",
     "text": [
      "\n",
      "Epoch 34/45:\n",
      "  Train Loss: 0.3525, Train Acc: 0.8463\n",
      "  Val Loss:   0.3854, Val Acc:   0.8245\n",
      "  Learning Rate: 0.000050\n",
      "  Elapsed Time: 142.38 seconds\n"
     ]
    },
    {
     "name": "stderr",
     "output_type": "stream",
     "text": [
      "                                                                                        \r"
     ]
    },
    {
     "name": "stdout",
     "output_type": "stream",
     "text": [
      "\n",
      "Epoch 35/45:\n",
      "  Train Loss: 0.3533, Train Acc: 0.8391\n",
      "  Val Loss:   0.3833, Val Acc:   0.8309\n",
      "  Learning Rate: 0.000050\n",
      "  Elapsed Time: 141.24 seconds\n"
     ]
    },
    {
     "name": "stderr",
     "output_type": "stream",
     "text": [
      "                                                                                        \r"
     ]
    },
    {
     "name": "stdout",
     "output_type": "stream",
     "text": [
      "\n",
      "Epoch 36/45:\n",
      "  Train Loss: 0.3396, Train Acc: 0.8542\n",
      "  Val Loss:   0.3953, Val Acc:   0.8235\n",
      "  Learning Rate: 0.000050\n",
      "  Elapsed Time: 141.83 seconds\n"
     ]
    },
    {
     "name": "stderr",
     "output_type": "stream",
     "text": [
      "                                                                                        \r"
     ]
    },
    {
     "name": "stdout",
     "output_type": "stream",
     "text": [
      "\n",
      "Epoch 37/45:\n",
      "  Train Loss: 0.3492, Train Acc: 0.8444\n",
      "  Val Loss:   0.4003, Val Acc:   0.8209\n",
      "  Learning Rate: 0.000050\n",
      "  Elapsed Time: 141.25 seconds\n"
     ]
    },
    {
     "name": "stderr",
     "output_type": "stream",
     "text": [
      "                                                                                        \r"
     ]
    },
    {
     "name": "stdout",
     "output_type": "stream",
     "text": [
      "\n",
      "Epoch 38/45:\n",
      "  Train Loss: 0.3450, Train Acc: 0.8461\n",
      "  Val Loss:   0.3742, Val Acc:   0.8336\n",
      "  Learning Rate: 0.000050\n",
      "  Elapsed Time: 141.01 seconds\n"
     ]
    },
    {
     "name": "stderr",
     "output_type": "stream",
     "text": [
      "                                                                                        \r"
     ]
    },
    {
     "name": "stdout",
     "output_type": "stream",
     "text": [
      "\n",
      "Epoch 39/45:\n",
      "  Train Loss: 0.3434, Train Acc: 0.8492\n",
      "  Val Loss:   0.3702, Val Acc:   0.8374\n",
      "  Learning Rate: 0.000050\n",
      "  Elapsed Time: 141.13 seconds\n"
     ]
    },
    {
     "name": "stderr",
     "output_type": "stream",
     "text": [
      "                                                                                        \r"
     ]
    },
    {
     "name": "stdout",
     "output_type": "stream",
     "text": [
      "\n",
      "Epoch 40/45:\n",
      "  Train Loss: 0.3275, Train Acc: 0.8579\n",
      "  Val Loss:   0.3649, Val Acc:   0.8351\n",
      "  Learning Rate: 0.000050\n",
      "  Elapsed Time: 140.67 seconds\n"
     ]
    },
    {
     "name": "stderr",
     "output_type": "stream",
     "text": [
      "                                                                                        \r"
     ]
    },
    {
     "name": "stdout",
     "output_type": "stream",
     "text": [
      "\n",
      "Epoch 41/45:\n",
      "  Train Loss: 0.3397, Train Acc: 0.8517\n",
      "  Val Loss:   0.3746, Val Acc:   0.8380\n",
      "  Learning Rate: 0.000050\n",
      "  Elapsed Time: 140.74 seconds\n"
     ]
    },
    {
     "name": "stderr",
     "output_type": "stream",
     "text": [
      "                                                                                        \r"
     ]
    },
    {
     "name": "stdout",
     "output_type": "stream",
     "text": [
      "\n",
      "Epoch 42/45:\n",
      "  Train Loss: 0.3259, Train Acc: 0.8582\n",
      "  Val Loss:   0.3709, Val Acc:   0.8350\n",
      "  Learning Rate: 0.000050\n",
      "  Elapsed Time: 148.72 seconds\n"
     ]
    },
    {
     "name": "stderr",
     "output_type": "stream",
     "text": [
      "                                                                                        \r"
     ]
    },
    {
     "name": "stdout",
     "output_type": "stream",
     "text": [
      "\n",
      "Epoch 43/45:\n",
      "  Train Loss: 0.3384, Train Acc: 0.8515\n",
      "  Val Loss:   0.3704, Val Acc:   0.8360\n",
      "  Learning Rate: 0.000050\n",
      "  Elapsed Time: 178.52 seconds\n"
     ]
    },
    {
     "name": "stderr",
     "output_type": "stream",
     "text": [
      "                                                                                        \r"
     ]
    },
    {
     "name": "stdout",
     "output_type": "stream",
     "text": [
      "\n",
      "Epoch 44/45:\n",
      "  Train Loss: 0.3302, Train Acc: 0.8544\n",
      "  Val Loss:   0.3676, Val Acc:   0.8366\n",
      "  Learning Rate: 0.000025\n",
      "  Elapsed Time: 141.26 seconds\n"
     ]
    },
    {
     "name": "stderr",
     "output_type": "stream",
     "text": [
      "                                                                                        "
     ]
    },
    {
     "name": "stdout",
     "output_type": "stream",
     "text": [
      "\n",
      "Epoch 45/45:\n",
      "  Train Loss: 0.3171, Train Acc: 0.8613\n",
      "  Val Loss:   0.3681, Val Acc:   0.8411\n",
      "  Learning Rate: 0.000025\n",
      "  Elapsed Time: 142.42 seconds\n"
     ]
    },
    {
     "name": "stderr",
     "output_type": "stream",
     "text": [
      "\r"
     ]
    }
   ],
   "source": [
    "import time\n",
    "from tqdm import tqdm\n",
    "import torch.nn as nn\n",
    "import torch.optim as optim\n",
    "from torch.optim.lr_scheduler import ReduceLROnPlateau\n",
    "\n",
    "# Define loss, optimizer, and scheduler\n",
    "criterion = nn.BCEWithLogitsLoss()\n",
    "optimizer = optim.Adam(model.parameters(), lr=1e-4, weight_decay=1e-4)\n",
    "scheduler = ReduceLROnPlateau(optimizer, mode='min', factor=0.5, patience=3, verbose=True)\n",
    "\n",
    "num_epochs = 45\n",
    "\n",
    "# Lists to record epoch-wise metrics and elapsed time\n",
    "train_losses, train_accuracies = [], []\n",
    "val_losses, val_accuracies = [], []\n",
    "epoch_times = []\n",
    "\n",
    "for epoch in range(num_epochs):\n",
    "    start_time = time.time()\n",
    "    \n",
    "    # Training loop with per-batch progress bar\n",
    "    model.train()\n",
    "    total_train_loss = 0.0\n",
    "    total_train_correct = 0\n",
    "    total_train_samples = 0\n",
    "    train_batches = tqdm(train_loader, desc=f\"Epoch {epoch+1}/{num_epochs} - Training\", leave=False)\n",
    "    \n",
    "    for images1, images2, labels in train_batches:\n",
    "        images1, images2, labels = images1.to(device), images2.to(device), labels.to(device)\n",
    "        optimizer.zero_grad()\n",
    "        outputs = model(images1, images2)\n",
    "        loss = criterion(outputs, labels.unsqueeze(1))\n",
    "        loss.backward()\n",
    "        optimizer.step()\n",
    "        \n",
    "        batch_size = labels.size(0)\n",
    "        total_train_loss += loss.item() * batch_size\n",
    "        preds = (torch.sigmoid(outputs) > 0.5).float()\n",
    "        total_train_correct += (preds == labels.unsqueeze(1)).sum().item()\n",
    "        total_train_samples += batch_size\n",
    "        \n",
    "        # Update inner progress bar with current batch loss\n",
    "        train_batches.set_postfix(loss=f\"{loss.item():.4f}\")\n",
    "    \n",
    "    epoch_train_loss = total_train_loss / total_train_samples\n",
    "    epoch_train_acc = total_train_correct / total_train_samples\n",
    "\n",
    "    # Validation loop with per-batch progress bar\n",
    "    model.eval()\n",
    "    total_val_loss = 0.0\n",
    "    total_val_correct = 0\n",
    "    total_val_samples = 0\n",
    "    val_batches = tqdm(val_loader, desc=f\"Epoch {epoch+1}/{num_epochs} - Validation\", leave=False)\n",
    "    \n",
    "    with torch.no_grad():\n",
    "        for images1, images2, labels in val_batches:\n",
    "            images1, images2, labels = images1.to(device), images2.to(device), labels.to(device)\n",
    "            outputs = model(images1, images2)\n",
    "            loss = criterion(outputs, labels.unsqueeze(1))\n",
    "            batch_size = labels.size(0)\n",
    "            total_val_loss += loss.item() * batch_size\n",
    "            preds = (torch.sigmoid(outputs) > 0.5).float()\n",
    "            total_val_correct += (preds == labels.unsqueeze(1)).sum().item()\n",
    "            total_val_samples += batch_size\n",
    "            \n",
    "            # Update inner progress bar with current batch loss\n",
    "            val_batches.set_postfix(loss=f\"{loss.item():.4f}\")\n",
    "    \n",
    "    epoch_val_loss = total_val_loss / total_val_samples\n",
    "    epoch_val_acc = total_val_correct / total_val_samples\n",
    "\n",
    "    # Step the scheduler based on validation loss\n",
    "    scheduler.step(epoch_val_loss)\n",
    "    current_lr = optimizer.param_groups[0]['lr']\n",
    "    \n",
    "    elapsed = time.time() - start_time\n",
    "\n",
    "    # Record epoch metrics\n",
    "    train_losses.append(epoch_train_loss)\n",
    "    train_accuracies.append(epoch_train_acc)\n",
    "    val_losses.append(epoch_val_loss)\n",
    "    val_accuracies.append(epoch_val_acc)\n",
    "    epoch_times.append(elapsed)\n",
    "    \n",
    "    # Print epoch summary\n",
    "    print(f\"\\nEpoch {epoch+1}/{num_epochs}:\")\n",
    "    print(f\"  Train Loss: {epoch_train_loss:.4f}, Train Acc: {epoch_train_acc:.4f}\")\n",
    "    print(f\"  Val Loss:   {epoch_val_loss:.4f}, Val Acc:   {epoch_val_acc:.4f}\")\n",
    "    print(f\"  Learning Rate: {current_lr:.6f}\")\n",
    "    print(f\"  Elapsed Time: {elapsed:.2f} seconds\")\n"
   ]
  },
  {
   "cell_type": "code",
   "execution_count": null,
   "metadata": {
    "execution": {
     "iopub.status.busy": "2025-04-10T08:11:33.452094Z",
     "iopub.status.idle": "2025-04-10T08:11:33.452512Z",
     "shell.execute_reply": "2025-04-10T08:11:33.452311Z"
    },
    "trusted": true
   },
   "outputs": [
    {
     "name": "stdout",
     "output_type": "stream",
     "text": [
      "Stopping search: maximum iterations reached --> 5\n",
      "Optimal verification threshold from PSO: 0.2101\n"
     ]
    }
   ],
   "source": [
    "# PSO for Threshold Optimization (Using a Subset of the Validation Set to Speed Up)\n",
    "\n",
    "\n",
    "subset_size = min(200, len(val_dataset))\n",
    "val_subset_indices = np.random.choice(len(val_dataset), size=subset_size, replace=False)\n",
    "val_subset = torch.utils.data.Subset(val_dataset, val_subset_indices)\n",
    "subset_loader = DataLoader(val_subset, batch_size=32, shuffle=False)\n",
    "\n",
    "def threshold_objective(threshold, model, loader, device):\n",
    "    # threshold is provided as a list [value]\n",
    "    _, acc, _, _, _ = evaluate_model(model, loader, criterion, device, threshold=threshold[0])\n",
    "    return 1 - acc  # We want to maximize accuracy, so minimize (1 - accuracy)\n",
    "\n",
    "# Optionally reduce swarmsize and maxiter for faster convergence.\n",
    "opt_threshold, _ = pso(\n",
    "    func=lambda th: threshold_objective(th, model, subset_loader, device),\n",
    "    lb=[0.1], ub=[1.5],\n",
    "    swarmsize=5, maxiter=5  # Reduced for speed\n",
    ")\n",
    "optimal_threshold = opt_threshold[0]\n",
    "print(f\"Optimal verification threshold from PSO: {optimal_threshold:.4f}\")\n"
   ]
  },
  {
   "cell_type": "code",
   "execution_count": null,
   "metadata": {
    "execution": {
     "iopub.status.busy": "2025-04-10T08:11:33.453487Z",
     "iopub.status.idle": "2025-04-10T08:11:33.453854Z",
     "shell.execute_reply": "2025-04-10T08:11:33.453695Z"
    },
    "trusted": true
   },
   "outputs": [
    {
     "name": "stdout",
     "output_type": "stream",
     "text": [
      "Classification Report:\n",
      "              precision    recall  f1-score   support\n",
      "\n",
      "   Different       0.84      0.84      0.84      5029\n",
      "        Same       0.84      0.84      0.84      4971\n",
      "\n",
      "    accuracy                           0.84     10000\n",
      "   macro avg       0.84      0.84      0.84     10000\n",
      "weighted avg       0.84      0.84      0.84     10000\n",
      "\n",
      "ROC-AUC Score: 0.9131\n"
     ]
    },
    {
     "data": {
      "image/png": "[encoded data removed]",
      "text/plain": [
       "<Figure size 640x480 with 2 Axes>"
      ]
     },
     "metadata": {},
     "output_type": "display_data"
    },
    {
     "data": {
      "image/png": "[encoded data removed]",
      "text/plain": [
       "<Figure size 600x500 with 1 Axes>"
      ]
     },
     "metadata": {},
     "output_type": "display_data"
    },
    {
     "data": {
      "image/png": "[encoded data removed]",
      "text/plain": [
       "<Figure size 1200x500 with 2 Axes>"
      ]
     },
     "metadata": {},
     "output_type": "display_data"
    }
   ],
   "source": [
    "# Evaluation Metrics & Graphs\n",
    "\n",
    "optimal_threshold = 0.60\n",
    "val_loss, val_acc, all_labels, all_preds, all_probs = evaluate_model(model, val_loader, criterion, device, threshold=optimal_threshold)\n",
    "\n",
    "print(\"Classification Report:\")\n",
    "print(classification_report(all_labels, all_preds, target_names=[\"Different\", \"Same\"]))\n",
    "\n",
    "roc_auc = roc_auc_score(all_labels, all_probs)\n",
    "print(f\"ROC-AUC Score: {roc_auc:.4f}\")\n",
    "\n",
    "# Confusion Matrix\n",
    "cm = confusion_matrix(all_labels, all_preds)\n",
    "disp = ConfusionMatrixDisplay(confusion_matrix=cm, display_labels=[\"Different\", \"Same\"])\n",
    "disp.plot(cmap=\"Blues\")\n",
    "plt.title(\"Confusion Matrix\")\n",
    "plt.show()\n",
    "\n",
    "# ROC Curve\n",
    "fpr, tpr, _ = roc_curve(all_labels, all_probs)\n",
    "plt.figure(figsize=(6, 5))\n",
    "plt.plot(fpr, tpr, label=f\"ROC-AUC = {roc_auc:.4f}\")\n",
    "plt.plot([0, 1], [0, 1], 'k--')\n",
    "plt.xlabel(\"False Positive Rate\")\n",
    "plt.ylabel(\"True Positive Rate\")\n",
    "plt.title(\"ROC Curve\")\n",
    "plt.legend()\n",
    "plt.grid(True)\n",
    "plt.show()\n",
    "\n",
    "# Plot Training and Validation Accuracy/Loss\n",
    "plt.figure(figsize=(12, 5))\n",
    "plt.subplot(1, 2, 1)\n",
    "plt.plot(train_accuracies, marker='o', label='Train Accuracy')\n",
    "plt.plot(val_accuracies, marker='o', label='Val Accuracy')\n",
    "plt.xlabel('Epoch')\n",
    "plt.ylabel('Accuracy')\n",
    "plt.title('Training vs. Validation Accuracy')\n",
    "plt.legend()\n",
    "plt.subplot(1, 2, 2)\n",
    "plt.plot(train_losses, marker='o', label='Train Loss')\n",
    "plt.plot(val_losses, marker='o', label='Val Loss')\n",
    "plt.xlabel('Epoch')\n",
    "plt.ylabel('Loss')\n",
    "plt.title('Training vs. Validation Loss')\n",
    "plt.legend()\n",
    "plt.tight_layout()\n",
    "plt.show()\n"
   ]
  },
  {
   "cell_type": "code",
   "execution_count": 10,
   "metadata": {
    "execution": {
     "iopub.status.busy": "2025-04-10T08:11:33.454717Z",
     "iopub.status.idle": "2025-04-10T08:11:33.455089Z",
     "shell.execute_reply": "2025-04-10T08:11:33.454930Z"
    },
    "trusted": true
   },
   "outputs": [
    {
     "name": "stderr",
     "output_type": "stream",
     "text": [
      "C:\\Users\\athar\\AppData\\Local\\Temp\\ipykernel_11128\\716255409.py:37: FutureWarning: You are using `torch.load` with `weights_only=False` (the current default value), which uses the default pickle module implicitly. It is possible to construct malicious pickle data which will execute arbitrary code during unpickling (See https://github.com/pytorch/pytorch/blob/main/SECURITY.md#untrusted-models for more details). In a future release, the default value for `weights_only` will be flipped to `True`. This limits the functions that could be executed during unpickling. Arbitrary objects will no longer be allowed to be loaded via this mode unless they are explicitly allowlisted by the user via `torch.serialization.add_safe_globals`. We recommend you start setting `weights_only=True` for any use case where you don't have full control of the loaded file. Please open an issue on GitHub for any issues related to this experimental feature.\n",
      "  model.load_state_dict(torch.load(pth_path, map_location=device))\n"
     ]
    },
    {
     "name": "stdout",
     "output_type": "stream",
     "text": [
      "Prediction probability (same identity): 0.9754\n",
      "Model predicts: Same Identity\n"
     ]
    }
   ],
   "source": [
    "import torch\n",
    "from PIL import Image\n",
    "from torchvision import transforms\n",
    "\n",
    "\n",
    "class ResNetSiamese(nn.Module):\n",
    "    def __init__(self,backbone):\n",
    "        super().__init__()\n",
    "        resnet = models.resnet18(pretrained=True)\n",
    "        self.feature_extractor = nn.Sequential(*list(resnet.children())[:-1])\n",
    "        self.fc = nn.Sequential(\n",
    "            nn.Linear(512, 512),\n",
    "            nn.ReLU(), nn.Dropout(0.7),\n",
    "            nn.Linear(512, 256),\n",
    "            nn.ReLU(), nn.Dropout(0.6),\n",
    "            nn.Linear(256, 128),\n",
    "            nn.ReLU(), nn.Dropout(0.5),\n",
    "            nn.Linear(128, 1)\n",
    "        )\n",
    "\n",
    "    def forward_one(self, x):\n",
    "        x = self.feature_extractor(x)\n",
    "        return x.view(x.size(0), -1)\n",
    "\n",
    "    def forward(self, x1, x2):\n",
    "        f1, f2 = self.forward_one(x1), self.forward_one(x2)\n",
    "        dist = torch.abs(f1 - f2)\n",
    "        return self.fc(dist)\n",
    "\n",
    "\n",
    "def load_model(pth_path, device):\n",
    "    from torchvision.models import resnet18\n",
    "    backbone = resnet18(pretrained=False)\n",
    "    backbone.fc = torch.nn.Identity()\n",
    "    \n",
    "    model = ResNetSiamese(backbone)\n",
    "    model.load_state_dict(torch.load(pth_path, map_location=device))\n",
    "    model.to(device)\n",
    "    return model\n",
    "\n",
    "\n",
    "def evaluate_image_pair(model, image_path1, image_path2, eval_transform, device, optimal_threshold=0.5):\n",
    "    image1 = Image.open(image_path1).convert(\"RGB\")\n",
    "    image2 = Image.open(image_path2).convert(\"RGB\")\n",
    "\n",
    "    img1_tensor = eval_transform(image1).unsqueeze(0).to(device)\n",
    "    img2_tensor = eval_transform(image2).unsqueeze(0).to(device)\n",
    "\n",
    "    model.eval()\n",
    "    with torch.no_grad():\n",
    "        output = model(img1_tensor, img2_tensor)\n",
    "        probability = torch.sigmoid(output).item()\n",
    "\n",
    "    prediction = \"Same Identity\" if probability > optimal_threshold else \"Different Identities\"\n",
    "    \n",
    "    print(f\"Prediction probability (same identity): {probability:.4f}\")\n",
    "    print(f\"Model predicts: {prediction}\")\n",
    "    \n",
    "    return probability, prediction\n",
    "\n",
    "\n",
    "if __name__ == \"__main__\":\n",
    "    pth_file = \"Siamese_VGG_83.pth\" \n",
    "    image_path1 = r\"C:\\Users\\athar\\Downloads\\EC_ATML_Project\\few_shot_images\\obama\\download (5).jpeg\"\n",
    "    image_path2 = r\"obama_query.png\"\n",
    "    optimal_threshold = 0.5  \n",
    "\n",
    "    device = torch.device(\"cuda\" if torch.cuda.is_available() else \"cpu\")\n",
    "\n",
    "    eval_transform = transforms.Compose([\n",
    "        transforms.Resize((224, 224)),\n",
    "        transforms.ToTensor(),\n",
    "    ])\n",
    "\n",
    "    model = load_model(pth_file, device)\n",
    "    evaluate_image_pair(model, image_path1, image_path2, eval_transform, device, optimal_threshold)\n"
   ]
  },
  {
   "cell_type": "code",
   "execution_count": 136,
   "metadata": {
    "execution": {
     "iopub.status.busy": "2025-04-10T08:11:33.456028Z",
     "iopub.status.idle": "2025-04-10T08:11:33.456515Z",
     "shell.execute_reply": "2025-04-10T08:11:33.456315Z"
    },
    "trusted": true
   },
   "outputs": [],
   "source": [
    "torch.save(model.state_dict(), 'Siamese_VGG_83.pth')"
   ]
  },
  {
   "cell_type": "code",
   "execution_count": null,
   "metadata": {},
   "outputs": [
    {
     "name": "stderr",
     "output_type": "stream",
     "text": [
      "C:\\Users\\athar\\AppData\\Local\\Temp\\ipykernel_12588\\1750509415.py:43: FutureWarning: You are using `torch.load` with `weights_only=False` (the current default value), which uses the default pickle module implicitly. It is possible to construct malicious pickle data which will execute arbitrary code during unpickling (See https://github.com/pytorch/pytorch/blob/main/SECURITY.md#untrusted-models for more details). In a future release, the default value for `weights_only` will be flipped to `True`. This limits the functions that could be executed during unpickling. Arbitrary objects will no longer be allowed to be loaded via this mode unless they are explicitly allowlisted by the user via `torch.serialization.add_safe_globals`. We recommend you start setting `weights_only=True` for any use case where you don't have full control of the loaded file. Please open an issue on GitHub for any issues related to this experimental feature.\n",
      "  model.load_state_dict(torch.load(r\"C:\\Users\\athar\\Downloads\\EC_ATML_Project\\Siamese_VGG_83.pth\", map_location=device))\n"
     ]
    },
    {
     "name": "stdout",
     "output_type": "stream",
     "text": [
      "--- Distances from Query to Each User ---\n",
      "User 'modi': Weighted Avg Distance = 9.3232, All Distances = [8.9161, 12.973, 10.2031, 9.1122, 12.9804]\n",
      "User 'obama': Weighted Avg Distance = 11.9307, All Distances = [15.9178, 10.2989, 12.456, 13.8924, 13.1513]\n",
      "User 'trump': Weighted Avg Distance = 9.5828, All Distances = [8.9904, 13.3157, 13.6801, 9.7367, 9.7916]\n",
      "\n",
      "Best Match: modi (Weighted Avg Distance = 9.3232)\n",
      " Face NOT recognized (no match found).\n"
     ]
    },
    {
     "data": {
      "text/plain": [
       "(None, 9.323196548963494)"
      ]
     },
     "execution_count": 154,
     "metadata": {},
     "output_type": "execute_result"
    }
   ],
   "source": [
    "import torch\n",
    "import torch.nn as nn\n",
    "import torchvision.transforms as transforms\n",
    "from torchvision.datasets.folder import default_loader\n",
    "import os\n",
    "from PIL import Image\n",
    "import numpy as np\n",
    "from torchvision import models\n",
    "\n",
    "\n",
    "device = torch.device('cuda' if torch.cuda.is_available() else 'cpu')\n",
    "model = ResNetSiamese().to(device)\n",
    "model.load_state_dict(torch.load(r\"C:\\Users\\athar\\Downloads\\EC_ATML_Project\\Siamese_VGG_83.pth\", map_location=device))\n",
    "model.eval()\n",
    "\n",
    "transform = transforms.Compose([\n",
    "    transforms.Resize((224, 224)),\n",
    "    transforms.ToTensor(),\n",
    "    transforms.Normalize([0.485, 0.456, 0.406],\n",
    "                         [0.229, 0.224, 0.225])\n",
    "])\n",
    "\n",
    "def get_embedding(image_path):\n",
    "    image = default_loader(image_path)\n",
    "    image = transform(image).unsqueeze(0).to(device)\n",
    "    with torch.no_grad():\n",
    "        embedding = model.forward_one(image)\n",
    "    return embedding.squeeze(0)\n",
    "\n",
    "\n",
    "def weighted_average(distances, epsilon=1e-6):\n",
    "    d_max = max(distances)\n",
    "    weights = [(d_max - d + epsilon) for d in distances]\n",
    "    weighted_avg = sum(w * d for w, d in zip(weights, distances)) / sum(weights)\n",
    "    return weighted_avg\n",
    "\n",
    "\n",
    "def predict_identity(query_img_path, support_dir, threshold=0.5):\n",
    "    \n",
    "    query_embedding = get_embedding(query_img_path)\n",
    "    results = {}\n",
    "    \n",
    "    for person in os.listdir(support_dir):\n",
    "        person_dir = os.path.join(support_dir, person)\n",
    "        if not os.path.isdir(person_dir):\n",
    "            continue\n",
    "\n",
    "        distances = []\n",
    "        for img_file in os.listdir(person_dir):\n",
    "            img_path = os.path.join(person_dir, img_file)\n",
    "            support_embedding = get_embedding(img_path)\n",
    "\n",
    "            # Compute Euclidean distance between query and support embedding:\n",
    "            distance = torch.norm(query_embedding - support_embedding, p=2).item()\n",
    "            distances.append(distance)\n",
    "\n",
    "        # Compute weighted average using our custom function:\n",
    "        weighted_avg = weighted_average(distances)\n",
    "        results[person] = {\n",
    "            \"weighted_avg\": weighted_avg,\n",
    "            \"all\": [round(d, 4) for d in distances]\n",
    "        }\n",
    "\n",
    "  \n",
    "    print(\"--- Distances from Query to Each User ---\")\n",
    "    for person, dist_info in results.items():\n",
    "        print(f\"User '{person}': Weighted Avg Distance = {dist_info['weighted_avg']:.4f}, All Distances = {dist_info['all']}\")\n",
    "    \n",
    "    # Find the user with the lowest weighted average\n",
    "    best_match = min(results.items(), key=lambda x: x[1][\"weighted_avg\"])\n",
    "    best_user = best_match[0]\n",
    "    best_score = best_match[1][\"weighted_avg\"]\n",
    "\n",
    "    # Check the threshold\n",
    "    if best_score <= threshold:\n",
    "        print(f\"\\nBest Match: {best_user} (Weighted Avg Distance = {best_score:.4f})\")\n",
    "        print(f\"Face recognized as '{best_user}'\")\n",
    "        return best_user, best_score\n",
    "    else:\n",
    "        print(f\"\\nBest Match: {best_user} (Weighted Avg Distance = {best_score:.4f})\")\n",
    "        print(\" Face NOT recognized (no match found).\")\n",
    "        return None, best_score\n",
    "\n",
    "support_dir = r\"C:\\Users\\athar\\Downloads\\EC_ATML_Project\\few_shot_images\"\n",
    "query_img_path = r\"C:\\Users\\athar\\Downloads\\EC_ATML_Project\\tanish_query.jpeg\"\n",
    "\n",
    "predict_identity(query_img_path, support_dir, threshold=6)\n"
   ]
  },
  {
   "cell_type": "code",
   "execution_count": 155,
   "metadata": {},
   "outputs": [
    {
     "name": "stdout",
     "output_type": "stream",
     "text": [
      "--- Distances from Query to Each User ---\n",
      "User 'modi': Weighted Avg Distance = 6.8955, All Distances = [6.1622, 9.2267, 9.971, 6.5274, 8.6297]\n",
      "User 'obama': Weighted Avg Distance = 5.4094, All Distances = [8.5855, 4.0517, 6.3004, 6.0826, 6.7027]\n",
      "User 'trump': Weighted Avg Distance = 5.7828, All Distances = [4.7623, 9.2642, 9.2756, 6.7611, 6.5575]\n",
      "\n",
      "Best Match: obama (Weighted Avg Distance = 5.4094)\n",
      "Face recognized as 'obama'\n"
     ]
    },
    {
     "data": {
      "text/plain": [
       "('obama', 5.4094424301761075)"
      ]
     },
     "execution_count": 155,
     "metadata": {},
     "output_type": "execute_result"
    }
   ],
   "source": [
    "support_dir = r\"C:\\Users\\athar\\Downloads\\EC_ATML_Project\\few_shot_images\"\n",
    "query_img_path = r\"C:\\Users\\athar\\Downloads\\EC_ATML_Project\\obama_query.png\"\n",
    "\n",
    "predict_identity(query_img_path, support_dir, threshold=6)"
   ]
  },
  {
   "cell_type": "code",
   "execution_count": 156,
   "metadata": {},
   "outputs": [
    {
     "name": "stdout",
     "output_type": "stream",
     "text": [
      "--- Distances from Query to Each User ---\n",
      "User 'modi': Weighted Avg Distance = 5.3607, All Distances = [7.1267, 5.868, 8.9347, 6.4949, 3.8753]\n",
      "User 'obama': Weighted Avg Distance = 6.5631, All Distances = [8.2867, 6.4664, 6.6553, 8.8599, 6.2021]\n",
      "User 'trump': Weighted Avg Distance = 5.6072, All Distances = [5.7834, 6.2049, 6.6107, 5.6657, 5.2751]\n",
      "\n",
      "Best Match: modi (Weighted Avg Distance = 5.3607)\n",
      "Face recognized as 'modi'\n"
     ]
    },
    {
     "data": {
      "text/plain": [
       "('modi', 5.360730371639931)"
      ]
     },
     "execution_count": 156,
     "metadata": {},
     "output_type": "execute_result"
    }
   ],
   "source": [
    "support_dir = r\"C:\\Users\\athar\\Downloads\\EC_ATML_Project\\few_shot_images\"\n",
    "query_img_path = r\"C:\\Users\\athar\\Downloads\\EC_ATML_Project\\modi_query.jpeg\"\n",
    "\n",
    "predict_identity(query_img_path, support_dir, threshold=6)"
   ]
  },
  {
   "cell_type": "code",
   "execution_count": 157,
   "metadata": {},
   "outputs": [
    {
     "name": "stdout",
     "output_type": "stream",
     "text": [
      "--- Distances from Query to Each User ---\n",
      "User 'modi': Weighted Avg Distance = 9.2886, All Distances = [10.6278, 9.7263, 11.4485, 10.4882, 8.3262]\n",
      "User 'obama': Weighted Avg Distance = 8.0007, All Distances = [7.8026, 8.3081, 8.4262, 9.3927, 7.7405]\n",
      "User 'trump': Weighted Avg Distance = 3.8051, All Distances = [8.2336, 3.2614, 3.3963, 8.6142, 7.7663]\n",
      "\n",
      "Best Match: trump (Weighted Avg Distance = 3.8051)\n",
      "Face recognized as 'trump'\n"
     ]
    },
    {
     "data": {
      "text/plain": [
       "('trump', 3.80512994893268)"
      ]
     },
     "execution_count": 157,
     "metadata": {},
     "output_type": "execute_result"
    }
   ],
   "source": [
    "support_dir = r\"C:\\Users\\athar\\Downloads\\EC_ATML_Project\\few_shot_images\"\n",
    "query_img_path = r\"C:\\Users\\athar\\Downloads\\EC_ATML_Project\\trump_query.jpeg\"\n",
    "\n",
    "predict_identity(query_img_path, support_dir, threshold=6)"
   ]
  },
  {
   "cell_type": "code",
   "execution_count": 158,
   "metadata": {},
   "outputs": [
    {
     "name": "stdout",
     "output_type": "stream",
     "text": [
      "--- Distances from Query to Each User ---\n",
      "User 'modi': Weighted Avg Distance = 6.1485, All Distances = [5.1215, 9.0206, 10.5263, 5.5203, 8.9859]\n",
      "User 'obama': Weighted Avg Distance = 8.9114, All Distances = [12.5588, 7.817, 8.8708, 10.4683, 9.621]\n",
      "User 'trump': Weighted Avg Distance = 7.8005, All Distances = [8.3235, 12.3623, 12.4461, 7.0945, 8.0848]\n",
      "\n",
      "Best Match: modi (Weighted Avg Distance = 6.1485)\n",
      " Face NOT recognized (no match found).\n"
     ]
    },
    {
     "data": {
      "text/plain": [
       "(None, 6.148522191257605)"
      ]
     },
     "execution_count": 158,
     "metadata": {},
     "output_type": "execute_result"
    }
   ],
   "source": [
    "support_dir = r\"C:\\Users\\athar\\Downloads\\EC_ATML_Project\\few_shot_images\"\n",
    "query_img_path = r\"C:\\Users\\athar\\Downloads\\EC_ATML_Project\\KSI.jpeg\"\n",
    "\n",
    "predict_identity(query_img_path, support_dir, threshold=6)"
   ]
  },
  {
   "cell_type": "code",
   "execution_count": 163,
   "metadata": {},
   "outputs": [
    {
     "name": "stdout",
     "output_type": "stream",
     "text": [
      "--- Distances from Query to Each User ---\n",
      "User 'KSI': Weighted Avg Distance = 6.4825, All Distances = [8.2054, 6.1317, 7.2232]\n",
      "User 'modi': Weighted Avg Distance = 7.0402, All Distances = [6.8373, 10.9529, 10.8377, 6.9168, 10.7086]\n",
      "User 'obama': Weighted Avg Distance = 10.1574, All Distances = [13.8905, 8.7294, 10.539, 11.5237, 11.2321]\n",
      "User 'Speed': Weighted Avg Distance = 5.2569, All Distances = [5.2569]\n",
      "User 'trump': Weighted Avg Distance = 9.2957, All Distances = [9.0357, 13.5262, 13.7671, 8.9865, 9.7124]\n",
      "\n",
      "Best Match: Speed (Weighted Avg Distance = 5.2569)\n",
      "Face recognized as 'Speed'\n"
     ]
    },
    {
     "data": {
      "text/plain": [
       "('Speed', 5.256915092468262)"
      ]
     },
     "execution_count": 163,
     "metadata": {},
     "output_type": "execute_result"
    }
   ],
   "source": [
    "query_img_path = r\"C:\\Users\\athar\\Downloads\\EC_ATML_Project\\speed_query.jpeg\"\n",
    "\n",
    "predict_identity(query_img_path, support_dir, threshold=6)"
   ]
  },
  {
   "cell_type": "code",
   "execution_count": null,
   "metadata": {},
   "outputs": [],
   "source": []
  }
 ],
 "metadata": {
  "kaggle": {
   "accelerator": "nvidiaTeslaT4",
   "dataSources": [
    {
     "datasetId": 2138237,
     "sourceId": 3557332,
     "sourceType": "datasetVersion"
    },
    {
     "datasetId": 7088275,
     "sourceId": 11331276,
     "sourceType": "datasetVersion"
    },
    {
     "datasetId": 7093937,
     "sourceId": 11339365,
     "sourceType": "datasetVersion"
    },
    {
     "datasetId": 7098210,
     "sourceId": 11344695,
     "sourceType": "datasetVersion"
    }
   ],
   "dockerImageVersionId": 30919,
   "isGpuEnabled": true,
   "isInternetEnabled": true,
   "language": "python",
   "sourceType": "notebook"
  },
  "kernelspec": {
   "display_name": "ATML_EC_PROJECT",
   "language": "python",
   "name": "python3"
  },
  "language_info": {
   "codemirror_mode": {
    "name": "ipython",
    "version": 3
   },
   "file_extension": ".py",
   "mimetype": "text/x-python",
   "name": "python",
   "nbconvert_exporter": "python",
   "pygments_lexer": "ipython3",
   "version": "3.9.21"
  }
 },
 "nbformat": 4,
 "nbformat_minor": 4
}
